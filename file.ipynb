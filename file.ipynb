{
 "cells": [
  {
   "cell_type": "code",
   "execution_count": 5,
   "metadata": {},
   "outputs": [],
   "source": [
    "import pandas as pd\n",
    "import seaborn as sns\n",
    "import matplotlib.pyplot as plt"
   ]
  },
  {
   "cell_type": "code",
   "execution_count": 15,
   "metadata": {},
   "outputs": [],
   "source": [
    "def read_world_bank_data(filename):\n",
    "    # Read CSV file into a Pandas dataframe\n",
    "    df = pd.read_csv(filename)\n",
    "    \n",
    "    # Remove unnecessary columns\n",
    "    df = df.drop(columns=['Indicator Code', 'Unnamed: 66', 'Country Code'])\n",
    "    \n",
    "    # Rename the columns for convenience\n",
    "    df = df.rename(columns={'Country Name': 'country_name',\n",
    "                            'Indicator Name': 'indicator_name'})\n",
    "    \n",
    "    # take mean by row where values are NaN\n",
    "    numeric_cols = df.select_dtypes(include='number').columns\n",
    "    df[numeric_cols] = df[numeric_cols].apply(lambda x: x.fillna(x.mean()), axis=1)\n",
    "    \n",
    "    # Melt the dataframe to get years as rows\n",
    "    df_melted = df.melt(id_vars=['country_name', 'indicator_name'],\n",
    "                        var_name='year', value_name='value')\n",
    "    \n",
    "    # Pivot the dataframe to have years as columns\n",
    "    df_years = df_melted.pivot(index=['country_name', 'indicator_name'],\n",
    "                               columns='year', values='value')\n",
    "        \n",
    "    # Reset the index\n",
    "    df_years = df_years.reset_index()\n",
    "    \n",
    "    # Pivot the dataframe to have countries as columns\n",
    "    df_countries = df_melted.pivot(index=['indicator_name', 'year'],\n",
    "                                   columns='country_name', values='value')\n",
    "\n",
    "    \n",
    "    # Reset the index\n",
    "    df_countries = df_countries.reset_index()\n",
    "    \n",
    "    return df_years, df_countries\n",
    "\n",
    "df_cleaned=read_world_bank_data('world_bank_dataset.csv')\n"
   ]
  },
  {
   "cell_type": "code",
   "execution_count": null,
   "metadata": {},
   "outputs": [],
   "source": [
    "# function to to form a dataframe with Year, GDP and Country\n",
    "def extract_columns(df_cleaned):\n",
    "    df=pd.DataFrame()\n",
    "    # pick data for the recent 10 years, note that the data sorted in descending order of year\n",
    "    df['Year']=df_cleaned.loc[:10, 'Year']\n",
    "    df['GDP in USD']=df_cleaned.loc[:10, 'GDP in USD']\n",
    "    df['Country']=df_cleaned.loc[:10, 'Country']\n",
    "    return df\n",
    "\n",
    "# function to fetch a single dataframe with 3 features from each country\n",
    "def form_gdp_df():\n",
    "    # function call to extract_columns()\n",
    "    indf=extract_columns(df_cleaned_in)\n",
    "    usdf=extract_columns(df_cleaned_us)\n",
    "    cndf=extract_columns(df_cleaned_cn)\n",
    "    jpdf=extract_columns(df_cleaned_jp)\n",
    "    cadf=extract_columns(df_cleaned_ca)\n",
    "    gbdf=extract_columns(df_cleaned_gb)\n",
    "    zadf=extract_columns(df_cleaned_za)\n",
    "    # combine the 7 dfs into a single df with 3 columns\n",
    "    # we ignore the original index\n",
    "    gdp_df=pd.concat([indf, usdf, cndf, jpdf, cadf, gbdf, zadf], ignore_index=True)\n",
    "    return gdp_df\n",
    "\n",
    "# get the combined DF\n",
    "gdp_df=form_gdp_df()\n",
    "\n",
    "print(\"Few records from the Dataframe containing Year, GDP and Country:\")\n",
    "display(gdp_df.head())\n",
    "\n",
    "# set figure size\n",
    "plt.figure(figsize=(7, 5))\n",
    "sns.set(style=\"whitegrid\")\n",
    "# plot using seaborn library\n",
    "ax=sns.lineplot(x='Year', y='GDP in USD', hue='Country', style=\"Country\",palette=\"Set2\", markers=True, dashes=False, data=gdp_df, linewidth=2.5)"
   ]
  },
  {
   "cell_type": "code",
   "execution_count": null,
   "metadata": {},
   "outputs": [],
   "source": [
    "# function to extract specific columns from the DFs for India and China\n",
    "def form_in_cn_df():\n",
    "    # for India\n",
    "    indf=df_cleaned_in[['Total Population', 'Electric Power Consumption(kWH per capita)', 'Country']]\n",
    "    # for China\n",
    "    cndf=df_cleaned_cn[['Total Population', 'Electric Power Consumption(kWH per capita)', 'Country']]\n",
    "    # combine the two dataframes\n",
    "    in_cn_df=pd.concat([indf, cndf])\n",
    "    return in_cn_df\n",
    "\n",
    "# get the desired data\n",
    "in_cn_df=form_in_cn_df()\n",
    "print(\"Few records from the selected features: \")\n",
    "display(in_cn_df.head())\n",
    "\n",
    "# scatter plot\n",
    "plt.figure(figsize=(7, 5))\n",
    "sns.set(style=\"whitegrid\")\n",
    "ax=sns.scatterplot(x='Total Population', y='Electric Power Consumption(kWH per capita)', hue='Country', palette=\"bright\", data=in_cn_df)"
   ]
  },
  {
   "cell_type": "code",
   "execution_count": null,
   "metadata": {},
   "outputs": [],
   "source": [
    "# read the columns from the df for Canada\n",
    "df=df_cleaned_ca.loc[3:, ['Electric Power Consumption(kWH per capita)','Total Population', 'Year']]\n",
    "\n",
    "print(\"First few records of the data: \")\n",
    "display(df.head())\n",
    "\n",
    "# line plot\n",
    "plt.figure(figsize=(6, 5))\n",
    "sns.set(style=\"whitegrid\")\n",
    "sns.lineplot(x='Total Population', y='Electric Power Consumption(kWH per capita)', palette=\"colorblind\",data=df, linewidth=2.5)"
   ]
  },
  {
   "cell_type": "code",
   "execution_count": null,
   "metadata": {},
   "outputs": [],
   "source": [
    "# Pick the columns Year, and 3 different power consumptions from the dataframe for russia\n",
    "plt.plot(df_cleaned_in.loc[5:, ['Year']],df_cleaned_in.loc[5:, ['Electric Power Consumption(kWH per capita)']],'.-')\n",
    "plt.plot(df_cleaned_in.loc[5:, ['Year']],df_cleaned_in.loc[5:, ['Renewable Energy Consumption (%)']],'.-')\n",
    "plt.plot(df_cleaned_in.loc[5:, ['Year']],df_cleaned_in.loc[5:, ['Fossil Fuel Consumption (%)']],'.-')\n",
    "\n",
    "plt.legend(['Electric Power Consumption(kWH per capita)', 'Renewable Energy Consumption(%)', 'Fossil Fuel Consumption(%)'], loc='best')\n",
    "plt.title(\"Energy Consumption in Russia\\n\")\n",
    "plt.xlabel('Year')\n",
    "plt.ylabel('Energy Consumption')\n",
    "plt.show()"
   ]
  }
 ],
 "metadata": {
  "kernelspec": {
   "display_name": "Python 3",
   "language": "python",
   "name": "python3"
  },
  "language_info": {
   "codemirror_mode": {
    "name": "ipython",
    "version": 3
   },
   "file_extension": ".py",
   "mimetype": "text/x-python",
   "name": "python",
   "nbconvert_exporter": "python",
   "pygments_lexer": "ipython3",
   "version": "3.10.7"
  },
  "orig_nbformat": 4,
  "vscode": {
   "interpreter": {
    "hash": "aee8b7b246df8f9039afb4144a1f6fd8d2ca17a180786b69acc140d282b71a49"
   }
  }
 },
 "nbformat": 4,
 "nbformat_minor": 2
}
